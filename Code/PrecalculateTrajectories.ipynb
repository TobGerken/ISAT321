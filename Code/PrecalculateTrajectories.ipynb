{
 "cells": [
  {
   "cell_type": "code",
   "execution_count": 2,
   "id": "30163155",
   "metadata": {},
   "outputs": [],
   "source": [
    "import model \n",
    "import pickle\n",
    "import json\n",
    "\n",
    "u= 2           # This is our mean wind speed in the horizontal (m/s) [Original value: 2]\n",
    "\n",
    "v_sigma = 1    # This is the lateral dispersion parameter (m/s) [Original value: 1]\n",
    "w_sigma = 0.25 # This is the vertical dispersion (m/s) [Original value: 0.25]\n",
    "\n",
    "start_x = 0    # This is the starting coordinate in x-direction in m [Original Value: 0]\n",
    "start_y = 0    # This is the starting coordinate in y-direction (crosswind) in m [Original Value: 0]\n",
    "start_z = 100  # This is the starting coordinate in z-direction (vertical) in m [Original Value: 100]\n",
    "\n",
    "# <<< Do not modify \n",
    "\n",
    "s_Ws =[0.1, 0.25, 0.5]\n",
    "s_Vs =[0.5, 1, 2]\n",
    "\n",
    "n_trajectories = 1000  # This is the total number of trajectories \n",
    "DTrajectories = {}\n",
    "for v_sigma in s_Vs:\n",
    "    DTrajectories[str(v_sigma)]={}\n",
    "    for w_sigma in s_Ws:\n",
    "        x,y,z =model.calculate_trajectories(start_y,start_z,u,v_sigma,w_sigma,n_trajectories)\n",
    "        DTrajectories[str(v_sigma)][str(w_sigma)] = (x,y,z)\n",
    "\n",
    "\n",
    "with open('PreCalculatedTrajectories.pickle', 'wb') as handle:\n",
    "    pickle.dump(DTrajectories, handle, protocol=pickle.HIGHEST_PROTOCOL)"
   ]
  },
  {
   "cell_type": "code",
   "execution_count": 9,
   "id": "8b107dc4",
   "metadata": {},
   "outputs": [],
   "source": [
    "import pickle\n",
    "with open('PreCalculatedTrajectories.pickle', 'wb') as handle:\n",
    "    pickle.dump(DTrajectories, handle, protocol=pickle.HIGHEST_PROTOCOL)"
   ]
  },
  {
   "cell_type": "code",
   "execution_count": 11,
   "id": "069722b5",
   "metadata": {},
   "outputs": [],
   "source": [
    "with open('PreCalculatedTrajectories.pickle', 'rb') as handle:\n",
    "    b = pickle.load(handle)"
   ]
  },
  {
   "cell_type": "code",
   "execution_count": 18,
   "id": "3b087184",
   "metadata": {},
   "outputs": [],
   "source": [
    "paramDict = {\n",
    "    \"sigmaW\" : s_Ws,\n",
    "    \"sigmaV\" : s_Vs,\n",
    "    \"n_trajectories\" : n_trajectories\n",
    "}\n",
    "\n",
    "with open('TrajectoryParams.txt', 'w') as json_file:\n",
    "  json.dump(paramDict, json_file)"
   ]
  },
  {
   "cell_type": "code",
   "execution_count": null,
   "id": "9f864e32",
   "metadata": {},
   "outputs": [],
   "source": []
  }
 ],
 "metadata": {
  "kernelspec": {
   "display_name": "Python 3",
   "language": "python",
   "name": "python3"
  },
  "language_info": {
   "codemirror_mode": {
    "name": "ipython",
    "version": 3
   },
   "file_extension": ".py",
   "mimetype": "text/x-python",
   "name": "python",
   "nbconvert_exporter": "python",
   "pygments_lexer": "ipython3",
   "version": "3.8.8"
  }
 },
 "nbformat": 4,
 "nbformat_minor": 5
}
